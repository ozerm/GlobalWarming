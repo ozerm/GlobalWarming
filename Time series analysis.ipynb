{
 "cells": [
  {
   "cell_type": "markdown",
   "metadata": {},
   "source": [
    "# Data import and cleaning"
   ]
  },
  {
   "cell_type": "code",
   "execution_count": 56,
   "metadata": {},
   "outputs": [],
   "source": [
    "# Import required packages\n",
    "import pandas as pd\n",
    "import numpy as np\n",
    "import matplotlib.pyplot as plt\n",
    "from sklearn.metrics import mean_squared_error"
   ]
  },
  {
   "cell_type": "code",
   "execution_count": 57,
   "metadata": {
    "scrolled": true
   },
   "outputs": [
    {
     "data": {
      "text/html": [
       "<div>\n",
       "<style scoped>\n",
       "    .dataframe tbody tr th:only-of-type {\n",
       "        vertical-align: middle;\n",
       "    }\n",
       "\n",
       "    .dataframe tbody tr th {\n",
       "        vertical-align: top;\n",
       "    }\n",
       "\n",
       "    .dataframe thead th {\n",
       "        text-align: right;\n",
       "    }\n",
       "</style>\n",
       "<table border=\"1\" class=\"dataframe\">\n",
       "  <thead>\n",
       "    <tr style=\"text-align: right;\">\n",
       "      <th></th>\n",
       "      <th>0</th>\n",
       "      <th>1</th>\n",
       "      <th>2</th>\n",
       "      <th>3</th>\n",
       "      <th>4</th>\n",
       "      <th>5</th>\n",
       "      <th>6</th>\n",
       "      <th>7</th>\n",
       "      <th>8</th>\n",
       "      <th>9</th>\n",
       "      <th>10</th>\n",
       "      <th>11</th>\n",
       "      <th>12</th>\n",
       "    </tr>\n",
       "  </thead>\n",
       "  <tbody>\n",
       "    <tr>\n",
       "      <th>0</th>\n",
       "      <td>1824</td>\n",
       "      <td>-161</td>\n",
       "      <td>-196</td>\n",
       "      <td>-160</td>\n",
       "      <td>-59</td>\n",
       "      <td>15</td>\n",
       "      <td>57</td>\n",
       "      <td>81</td>\n",
       "      <td>-999</td>\n",
       "      <td>-999</td>\n",
       "      <td>-999</td>\n",
       "      <td>-999</td>\n",
       "      <td>-999</td>\n",
       "    </tr>\n",
       "    <tr>\n",
       "      <th>1</th>\n",
       "      <td>1825</td>\n",
       "      <td>-999</td>\n",
       "      <td>-999</td>\n",
       "      <td>-999</td>\n",
       "      <td>-999</td>\n",
       "      <td>-999</td>\n",
       "      <td>-999</td>\n",
       "      <td>54</td>\n",
       "      <td>-999</td>\n",
       "      <td>-999</td>\n",
       "      <td>-63</td>\n",
       "      <td>-136</td>\n",
       "      <td>-180</td>\n",
       "    </tr>\n",
       "    <tr>\n",
       "      <th>2</th>\n",
       "      <td>1826</td>\n",
       "      <td>-184</td>\n",
       "      <td>-999</td>\n",
       "      <td>-204</td>\n",
       "      <td>-234</td>\n",
       "      <td>-31</td>\n",
       "      <td>-6</td>\n",
       "      <td>-999</td>\n",
       "      <td>-999</td>\n",
       "      <td>6</td>\n",
       "      <td>-51</td>\n",
       "      <td>-60</td>\n",
       "      <td>-118</td>\n",
       "    </tr>\n",
       "    <tr>\n",
       "      <th>3</th>\n",
       "      <td>1827</td>\n",
       "      <td>-186</td>\n",
       "      <td>-74</td>\n",
       "      <td>-197</td>\n",
       "      <td>-105</td>\n",
       "      <td>-22</td>\n",
       "      <td>-999</td>\n",
       "      <td>-999</td>\n",
       "      <td>-999</td>\n",
       "      <td>-999</td>\n",
       "      <td>-999</td>\n",
       "      <td>-999</td>\n",
       "      <td>-999</td>\n",
       "    </tr>\n",
       "    <tr>\n",
       "      <th>4</th>\n",
       "      <td>1828</td>\n",
       "      <td>-999</td>\n",
       "      <td>-999</td>\n",
       "      <td>-999</td>\n",
       "      <td>-999</td>\n",
       "      <td>-999</td>\n",
       "      <td>-999</td>\n",
       "      <td>-999</td>\n",
       "      <td>-999</td>\n",
       "      <td>-999</td>\n",
       "      <td>-999</td>\n",
       "      <td>-999</td>\n",
       "      <td>-999</td>\n",
       "    </tr>\n",
       "  </tbody>\n",
       "</table>\n",
       "</div>"
      ],
      "text/plain": [
       "     0    1    2    3    4    5    6    7    8    9    10   11   12\n",
       "0  1824 -161 -196 -160  -59   15   57   81 -999 -999 -999 -999 -999\n",
       "1  1825 -999 -999 -999 -999 -999 -999   54 -999 -999  -63 -136 -180\n",
       "2  1826 -184 -999 -204 -234  -31   -6 -999 -999    6  -51  -60 -118\n",
       "3  1827 -186  -74 -197 -105  -22 -999 -999 -999 -999 -999 -999 -999\n",
       "4  1828 -999 -999 -999 -999 -999 -999 -999 -999 -999 -999 -999 -999"
      ]
     },
     "execution_count": 57,
     "metadata": {},
     "output_type": "execute_result"
    }
   ],
   "source": [
    "# Read the dataset\n",
    "df_ilu = pd.read_csv('data/ILULISSAT1.txt',delimiter= '\\s+', header=None)\n",
    "df_ilu.head()"
   ]
  },
  {
   "cell_type": "code",
   "execution_count": 58,
   "metadata": {},
   "outputs": [],
   "source": [
    "# Change column names\n",
    "df_ilu.columns = ['Year', '1', '2', '3', '4', '5', '6', '7', '8', '9', '10', '11', '12']"
   ]
  },
  {
   "cell_type": "code",
   "execution_count": 59,
   "metadata": {
    "scrolled": true
   },
   "outputs": [],
   "source": [
    "# Convert wide to long\n",
    "df_ilu_long = pd.melt(df_ilu, id_vars='Year', value_vars=('1', '2', '3', '4', '5', '6', '7', '8', '9', '10', '11', '12'))"
   ]
  },
  {
   "cell_type": "code",
   "execution_count": 60,
   "metadata": {},
   "outputs": [
    {
     "data": {
      "text/html": [
       "<div>\n",
       "<style scoped>\n",
       "    .dataframe tbody tr th:only-of-type {\n",
       "        vertical-align: middle;\n",
       "    }\n",
       "\n",
       "    .dataframe tbody tr th {\n",
       "        vertical-align: top;\n",
       "    }\n",
       "\n",
       "    .dataframe thead th {\n",
       "        text-align: right;\n",
       "    }\n",
       "</style>\n",
       "<table border=\"1\" class=\"dataframe\">\n",
       "  <thead>\n",
       "    <tr style=\"text-align: right;\">\n",
       "      <th></th>\n",
       "      <th>Year</th>\n",
       "      <th>variable</th>\n",
       "      <th>value</th>\n",
       "    </tr>\n",
       "  </thead>\n",
       "  <tbody>\n",
       "    <tr>\n",
       "      <th>0</th>\n",
       "      <td>1824</td>\n",
       "      <td>1</td>\n",
       "      <td>-161</td>\n",
       "    </tr>\n",
       "    <tr>\n",
       "      <th>1</th>\n",
       "      <td>1825</td>\n",
       "      <td>1</td>\n",
       "      <td>-999</td>\n",
       "    </tr>\n",
       "    <tr>\n",
       "      <th>2</th>\n",
       "      <td>1826</td>\n",
       "      <td>1</td>\n",
       "      <td>-184</td>\n",
       "    </tr>\n",
       "    <tr>\n",
       "      <th>3</th>\n",
       "      <td>1827</td>\n",
       "      <td>1</td>\n",
       "      <td>-186</td>\n",
       "    </tr>\n",
       "    <tr>\n",
       "      <th>4</th>\n",
       "      <td>1828</td>\n",
       "      <td>1</td>\n",
       "      <td>-999</td>\n",
       "    </tr>\n",
       "  </tbody>\n",
       "</table>\n",
       "</div>"
      ],
      "text/plain": [
       "   Year variable  value\n",
       "0  1824        1   -161\n",
       "1  1825        1   -999\n",
       "2  1826        1   -184\n",
       "3  1827        1   -186\n",
       "4  1828        1   -999"
      ]
     },
     "execution_count": 60,
     "metadata": {},
     "output_type": "execute_result"
    }
   ],
   "source": [
    "df_ilu_long.head()"
   ]
  },
  {
   "cell_type": "code",
   "execution_count": 61,
   "metadata": {},
   "outputs": [
    {
     "data": {
      "text/html": [
       "<div>\n",
       "<style scoped>\n",
       "    .dataframe tbody tr th:only-of-type {\n",
       "        vertical-align: middle;\n",
       "    }\n",
       "\n",
       "    .dataframe tbody tr th {\n",
       "        vertical-align: top;\n",
       "    }\n",
       "\n",
       "    .dataframe thead th {\n",
       "        text-align: right;\n",
       "    }\n",
       "</style>\n",
       "<table border=\"1\" class=\"dataframe\">\n",
       "  <thead>\n",
       "    <tr style=\"text-align: right;\">\n",
       "      <th></th>\n",
       "      <th>Year</th>\n",
       "      <th>variable</th>\n",
       "      <th>value</th>\n",
       "    </tr>\n",
       "  </thead>\n",
       "  <tbody>\n",
       "    <tr>\n",
       "      <th>0</th>\n",
       "      <td>1824</td>\n",
       "      <td>1</td>\n",
       "      <td>-161</td>\n",
       "    </tr>\n",
       "    <tr>\n",
       "      <th>1</th>\n",
       "      <td>1825</td>\n",
       "      <td>1</td>\n",
       "      <td>-999</td>\n",
       "    </tr>\n",
       "    <tr>\n",
       "      <th>2</th>\n",
       "      <td>1826</td>\n",
       "      <td>1</td>\n",
       "      <td>-184</td>\n",
       "    </tr>\n",
       "    <tr>\n",
       "      <th>3</th>\n",
       "      <td>1827</td>\n",
       "      <td>1</td>\n",
       "      <td>-186</td>\n",
       "    </tr>\n",
       "    <tr>\n",
       "      <th>4</th>\n",
       "      <td>1828</td>\n",
       "      <td>1</td>\n",
       "      <td>-999</td>\n",
       "    </tr>\n",
       "  </tbody>\n",
       "</table>\n",
       "</div>"
      ],
      "text/plain": [
       "   Year variable  value\n",
       "0  1824        1   -161\n",
       "1  1825        1   -999\n",
       "2  1826        1   -184\n",
       "3  1827        1   -186\n",
       "4  1828        1   -999"
      ]
     },
     "execution_count": 61,
     "metadata": {},
     "output_type": "execute_result"
    }
   ],
   "source": [
    "df_ilu_long.head()"
   ]
  },
  {
   "cell_type": "code",
   "execution_count": 62,
   "metadata": {},
   "outputs": [],
   "source": [
    "df_ilu_long['Date'] = df_ilu_long['variable'].astype(str) + '/1/' + df_ilu_long['Year'].astype(str)\n"
   ]
  },
  {
   "cell_type": "code",
   "execution_count": 63,
   "metadata": {},
   "outputs": [
    {
     "data": {
      "text/plain": [
       "RangeIndex(start=0, stop=2280, step=1)"
      ]
     },
     "execution_count": 63,
     "metadata": {},
     "output_type": "execute_result"
    }
   ],
   "source": [
    "df_ilu_long.index"
   ]
  },
  {
   "cell_type": "code",
   "execution_count": 64,
   "metadata": {},
   "outputs": [
    {
     "name": "stdout",
     "output_type": "stream",
     "text": [
      "<class 'pandas.core.frame.DataFrame'>\n",
      "RangeIndex: 2280 entries, 0 to 2279\n",
      "Data columns (total 4 columns):\n",
      " #   Column    Non-Null Count  Dtype \n",
      "---  ------    --------------  ----- \n",
      " 0   Year      2280 non-null   int64 \n",
      " 1   variable  2280 non-null   object\n",
      " 2   value     2280 non-null   int64 \n",
      " 3   Date      2280 non-null   object\n",
      "dtypes: int64(2), object(2)\n",
      "memory usage: 71.4+ KB\n"
     ]
    }
   ],
   "source": [
    "df_ilu_long.info()"
   ]
  },
  {
   "cell_type": "code",
   "execution_count": 65,
   "metadata": {},
   "outputs": [],
   "source": [
    "df_ilu_long['Date'] = df_ilu_long['Date'].astype('datetime64[ns]')"
   ]
  },
  {
   "cell_type": "code",
   "execution_count": 66,
   "metadata": {},
   "outputs": [
    {
     "name": "stdout",
     "output_type": "stream",
     "text": [
      "<class 'pandas.core.frame.DataFrame'>\n",
      "RangeIndex: 2280 entries, 0 to 2279\n",
      "Data columns (total 4 columns):\n",
      " #   Column    Non-Null Count  Dtype         \n",
      "---  ------    --------------  -----         \n",
      " 0   Year      2280 non-null   int64         \n",
      " 1   variable  2280 non-null   object        \n",
      " 2   value     2280 non-null   int64         \n",
      " 3   Date      2280 non-null   datetime64[ns]\n",
      "dtypes: datetime64[ns](1), int64(2), object(1)\n",
      "memory usage: 71.4+ KB\n"
     ]
    }
   ],
   "source": [
    "df_ilu_long.info()"
   ]
  },
  {
   "cell_type": "code",
   "execution_count": 67,
   "metadata": {
    "scrolled": true
   },
   "outputs": [],
   "source": [
    "df_ilu_long.set_index(df_ilu_long['Date'], inplace=True)"
   ]
  },
  {
   "cell_type": "code",
   "execution_count": null,
   "metadata": {},
   "outputs": [],
   "source": []
  },
  {
   "cell_type": "code",
   "execution_count": 68,
   "metadata": {
    "scrolled": true
   },
   "outputs": [
    {
     "data": {
      "text/html": [
       "<div>\n",
       "<style scoped>\n",
       "    .dataframe tbody tr th:only-of-type {\n",
       "        vertical-align: middle;\n",
       "    }\n",
       "\n",
       "    .dataframe tbody tr th {\n",
       "        vertical-align: top;\n",
       "    }\n",
       "\n",
       "    .dataframe thead th {\n",
       "        text-align: right;\n",
       "    }\n",
       "</style>\n",
       "<table border=\"1\" class=\"dataframe\">\n",
       "  <thead>\n",
       "    <tr style=\"text-align: right;\">\n",
       "      <th></th>\n",
       "      <th>Year</th>\n",
       "      <th>variable</th>\n",
       "      <th>value</th>\n",
       "      <th>Date</th>\n",
       "    </tr>\n",
       "    <tr>\n",
       "      <th>Date</th>\n",
       "      <th></th>\n",
       "      <th></th>\n",
       "      <th></th>\n",
       "      <th></th>\n",
       "    </tr>\n",
       "  </thead>\n",
       "  <tbody>\n",
       "    <tr>\n",
       "      <th>1824-01-01</th>\n",
       "      <td>1824</td>\n",
       "      <td>1</td>\n",
       "      <td>-161</td>\n",
       "      <td>1824-01-01</td>\n",
       "    </tr>\n",
       "    <tr>\n",
       "      <th>1825-01-01</th>\n",
       "      <td>1825</td>\n",
       "      <td>1</td>\n",
       "      <td>-999</td>\n",
       "      <td>1825-01-01</td>\n",
       "    </tr>\n",
       "    <tr>\n",
       "      <th>1826-01-01</th>\n",
       "      <td>1826</td>\n",
       "      <td>1</td>\n",
       "      <td>-184</td>\n",
       "      <td>1826-01-01</td>\n",
       "    </tr>\n",
       "    <tr>\n",
       "      <th>1827-01-01</th>\n",
       "      <td>1827</td>\n",
       "      <td>1</td>\n",
       "      <td>-186</td>\n",
       "      <td>1827-01-01</td>\n",
       "    </tr>\n",
       "    <tr>\n",
       "      <th>1828-01-01</th>\n",
       "      <td>1828</td>\n",
       "      <td>1</td>\n",
       "      <td>-999</td>\n",
       "      <td>1828-01-01</td>\n",
       "    </tr>\n",
       "  </tbody>\n",
       "</table>\n",
       "</div>"
      ],
      "text/plain": [
       "            Year variable  value       Date\n",
       "Date                                       \n",
       "1824-01-01  1824        1   -161 1824-01-01\n",
       "1825-01-01  1825        1   -999 1825-01-01\n",
       "1826-01-01  1826        1   -184 1826-01-01\n",
       "1827-01-01  1827        1   -186 1827-01-01\n",
       "1828-01-01  1828        1   -999 1828-01-01"
      ]
     },
     "execution_count": 68,
     "metadata": {},
     "output_type": "execute_result"
    }
   ],
   "source": [
    "df_ilu_long.head()"
   ]
  },
  {
   "cell_type": "code",
   "execution_count": 69,
   "metadata": {},
   "outputs": [],
   "source": [
    "df_ilu_long.index.names = ['Time']"
   ]
  },
  {
   "cell_type": "code",
   "execution_count": 70,
   "metadata": {},
   "outputs": [],
   "source": [
    "df_ilu_long.columns = [ 'Year', 'Month', 'Temp', 'Date']"
   ]
  },
  {
   "cell_type": "code",
   "execution_count": 71,
   "metadata": {},
   "outputs": [],
   "source": [
    "df_ilu_long = df_ilu_long.sort_values(by='Date',ascending=True)"
   ]
  },
  {
   "cell_type": "code",
   "execution_count": 72,
   "metadata": {},
   "outputs": [
    {
     "data": {
      "text/html": [
       "<div>\n",
       "<style scoped>\n",
       "    .dataframe tbody tr th:only-of-type {\n",
       "        vertical-align: middle;\n",
       "    }\n",
       "\n",
       "    .dataframe tbody tr th {\n",
       "        vertical-align: top;\n",
       "    }\n",
       "\n",
       "    .dataframe thead th {\n",
       "        text-align: right;\n",
       "    }\n",
       "</style>\n",
       "<table border=\"1\" class=\"dataframe\">\n",
       "  <thead>\n",
       "    <tr style=\"text-align: right;\">\n",
       "      <th></th>\n",
       "      <th>Year</th>\n",
       "      <th>Month</th>\n",
       "      <th>Temp</th>\n",
       "      <th>Date</th>\n",
       "    </tr>\n",
       "    <tr>\n",
       "      <th>Time</th>\n",
       "      <th></th>\n",
       "      <th></th>\n",
       "      <th></th>\n",
       "      <th></th>\n",
       "    </tr>\n",
       "  </thead>\n",
       "  <tbody>\n",
       "    <tr>\n",
       "      <th>1824-01-01</th>\n",
       "      <td>1824</td>\n",
       "      <td>1</td>\n",
       "      <td>-161</td>\n",
       "      <td>1824-01-01</td>\n",
       "    </tr>\n",
       "    <tr>\n",
       "      <th>1824-02-01</th>\n",
       "      <td>1824</td>\n",
       "      <td>2</td>\n",
       "      <td>-196</td>\n",
       "      <td>1824-02-01</td>\n",
       "    </tr>\n",
       "    <tr>\n",
       "      <th>1824-03-01</th>\n",
       "      <td>1824</td>\n",
       "      <td>3</td>\n",
       "      <td>-160</td>\n",
       "      <td>1824-03-01</td>\n",
       "    </tr>\n",
       "    <tr>\n",
       "      <th>1824-04-01</th>\n",
       "      <td>1824</td>\n",
       "      <td>4</td>\n",
       "      <td>-59</td>\n",
       "      <td>1824-04-01</td>\n",
       "    </tr>\n",
       "    <tr>\n",
       "      <th>1824-05-01</th>\n",
       "      <td>1824</td>\n",
       "      <td>5</td>\n",
       "      <td>15</td>\n",
       "      <td>1824-05-01</td>\n",
       "    </tr>\n",
       "  </tbody>\n",
       "</table>\n",
       "</div>"
      ],
      "text/plain": [
       "            Year Month  Temp       Date\n",
       "Time                                   \n",
       "1824-01-01  1824     1  -161 1824-01-01\n",
       "1824-02-01  1824     2  -196 1824-02-01\n",
       "1824-03-01  1824     3  -160 1824-03-01\n",
       "1824-04-01  1824     4   -59 1824-04-01\n",
       "1824-05-01  1824     5    15 1824-05-01"
      ]
     },
     "execution_count": 72,
     "metadata": {},
     "output_type": "execute_result"
    }
   ],
   "source": [
    "df_ilu_long.head()"
   ]
  },
  {
   "cell_type": "code",
   "execution_count": null,
   "metadata": {},
   "outputs": [],
   "source": []
  },
  {
   "cell_type": "code",
   "execution_count": 73,
   "metadata": {},
   "outputs": [],
   "source": [
    "#df_ilu_long.set_index(df_ilu_long['Date'])"
   ]
  },
  {
   "cell_type": "code",
   "execution_count": 74,
   "metadata": {},
   "outputs": [
    {
     "data": {
      "text/html": [
       "<div>\n",
       "<style scoped>\n",
       "    .dataframe tbody tr th:only-of-type {\n",
       "        vertical-align: middle;\n",
       "    }\n",
       "\n",
       "    .dataframe tbody tr th {\n",
       "        vertical-align: top;\n",
       "    }\n",
       "\n",
       "    .dataframe thead th {\n",
       "        text-align: right;\n",
       "    }\n",
       "</style>\n",
       "<table border=\"1\" class=\"dataframe\">\n",
       "  <thead>\n",
       "    <tr style=\"text-align: right;\">\n",
       "      <th></th>\n",
       "      <th>Year</th>\n",
       "      <th>Month</th>\n",
       "      <th>Temp</th>\n",
       "      <th>Date</th>\n",
       "    </tr>\n",
       "    <tr>\n",
       "      <th>Time</th>\n",
       "      <th></th>\n",
       "      <th></th>\n",
       "      <th></th>\n",
       "      <th></th>\n",
       "    </tr>\n",
       "  </thead>\n",
       "  <tbody>\n",
       "    <tr>\n",
       "      <th>1824-01-01</th>\n",
       "      <td>1824</td>\n",
       "      <td>1</td>\n",
       "      <td>-161</td>\n",
       "      <td>1824-01-01</td>\n",
       "    </tr>\n",
       "    <tr>\n",
       "      <th>1824-02-01</th>\n",
       "      <td>1824</td>\n",
       "      <td>2</td>\n",
       "      <td>-196</td>\n",
       "      <td>1824-02-01</td>\n",
       "    </tr>\n",
       "    <tr>\n",
       "      <th>1824-03-01</th>\n",
       "      <td>1824</td>\n",
       "      <td>3</td>\n",
       "      <td>-160</td>\n",
       "      <td>1824-03-01</td>\n",
       "    </tr>\n",
       "    <tr>\n",
       "      <th>1824-04-01</th>\n",
       "      <td>1824</td>\n",
       "      <td>4</td>\n",
       "      <td>-59</td>\n",
       "      <td>1824-04-01</td>\n",
       "    </tr>\n",
       "    <tr>\n",
       "      <th>1824-05-01</th>\n",
       "      <td>1824</td>\n",
       "      <td>5</td>\n",
       "      <td>15</td>\n",
       "      <td>1824-05-01</td>\n",
       "    </tr>\n",
       "  </tbody>\n",
       "</table>\n",
       "</div>"
      ],
      "text/plain": [
       "            Year Month  Temp       Date\n",
       "Time                                   \n",
       "1824-01-01  1824     1  -161 1824-01-01\n",
       "1824-02-01  1824     2  -196 1824-02-01\n",
       "1824-03-01  1824     3  -160 1824-03-01\n",
       "1824-04-01  1824     4   -59 1824-04-01\n",
       "1824-05-01  1824     5    15 1824-05-01"
      ]
     },
     "execution_count": 74,
     "metadata": {},
     "output_type": "execute_result"
    }
   ],
   "source": [
    "df_ilu_long.head()"
   ]
  },
  {
   "cell_type": "code",
   "execution_count": 75,
   "metadata": {},
   "outputs": [],
   "source": [
    "df_ilu_long = df_ilu_long.replace(-999, np.nan)\n"
   ]
  },
  {
   "cell_type": "code",
   "execution_count": 76,
   "metadata": {},
   "outputs": [
    {
     "data": {
      "text/html": [
       "<div>\n",
       "<style scoped>\n",
       "    .dataframe tbody tr th:only-of-type {\n",
       "        vertical-align: middle;\n",
       "    }\n",
       "\n",
       "    .dataframe tbody tr th {\n",
       "        vertical-align: top;\n",
       "    }\n",
       "\n",
       "    .dataframe thead th {\n",
       "        text-align: right;\n",
       "    }\n",
       "</style>\n",
       "<table border=\"1\" class=\"dataframe\">\n",
       "  <thead>\n",
       "    <tr style=\"text-align: right;\">\n",
       "      <th></th>\n",
       "      <th>Year</th>\n",
       "      <th>Month</th>\n",
       "      <th>Temp</th>\n",
       "      <th>Date</th>\n",
       "    </tr>\n",
       "    <tr>\n",
       "      <th>Time</th>\n",
       "      <th></th>\n",
       "      <th></th>\n",
       "      <th></th>\n",
       "      <th></th>\n",
       "    </tr>\n",
       "  </thead>\n",
       "  <tbody>\n",
       "    <tr>\n",
       "      <th>1824-01-01</th>\n",
       "      <td>1824</td>\n",
       "      <td>1</td>\n",
       "      <td>-161.0</td>\n",
       "      <td>1824-01-01</td>\n",
       "    </tr>\n",
       "    <tr>\n",
       "      <th>1824-02-01</th>\n",
       "      <td>1824</td>\n",
       "      <td>2</td>\n",
       "      <td>-196.0</td>\n",
       "      <td>1824-02-01</td>\n",
       "    </tr>\n",
       "    <tr>\n",
       "      <th>1824-03-01</th>\n",
       "      <td>1824</td>\n",
       "      <td>3</td>\n",
       "      <td>-160.0</td>\n",
       "      <td>1824-03-01</td>\n",
       "    </tr>\n",
       "    <tr>\n",
       "      <th>1824-04-01</th>\n",
       "      <td>1824</td>\n",
       "      <td>4</td>\n",
       "      <td>-59.0</td>\n",
       "      <td>1824-04-01</td>\n",
       "    </tr>\n",
       "    <tr>\n",
       "      <th>1824-05-01</th>\n",
       "      <td>1824</td>\n",
       "      <td>5</td>\n",
       "      <td>15.0</td>\n",
       "      <td>1824-05-01</td>\n",
       "    </tr>\n",
       "  </tbody>\n",
       "</table>\n",
       "</div>"
      ],
      "text/plain": [
       "            Year Month   Temp       Date\n",
       "Time                                    \n",
       "1824-01-01  1824     1 -161.0 1824-01-01\n",
       "1824-02-01  1824     2 -196.0 1824-02-01\n",
       "1824-03-01  1824     3 -160.0 1824-03-01\n",
       "1824-04-01  1824     4  -59.0 1824-04-01\n",
       "1824-05-01  1824     5   15.0 1824-05-01"
      ]
     },
     "execution_count": 76,
     "metadata": {},
     "output_type": "execute_result"
    }
   ],
   "source": [
    "df_ilu_long.head()"
   ]
  },
  {
   "cell_type": "markdown",
   "metadata": {},
   "source": [
    "# EDA "
   ]
  },
  {
   "cell_type": "code",
   "execution_count": 77,
   "metadata": {},
   "outputs": [
    {
     "data": {
      "text/plain": [
       "9120"
      ]
     },
     "execution_count": 77,
     "metadata": {},
     "output_type": "execute_result"
    }
   ],
   "source": [
    "df_ilu_long.size"
   ]
  },
  {
   "cell_type": "code",
   "execution_count": 78,
   "metadata": {},
   "outputs": [
    {
     "data": {
      "text/html": [
       "<div>\n",
       "<style scoped>\n",
       "    .dataframe tbody tr th:only-of-type {\n",
       "        vertical-align: middle;\n",
       "    }\n",
       "\n",
       "    .dataframe tbody tr th {\n",
       "        vertical-align: top;\n",
       "    }\n",
       "\n",
       "    .dataframe thead th {\n",
       "        text-align: right;\n",
       "    }\n",
       "</style>\n",
       "<table border=\"1\" class=\"dataframe\">\n",
       "  <thead>\n",
       "    <tr style=\"text-align: right;\">\n",
       "      <th></th>\n",
       "      <th>Year</th>\n",
       "      <th>Month</th>\n",
       "      <th>Temp</th>\n",
       "      <th>Date</th>\n",
       "    </tr>\n",
       "    <tr>\n",
       "      <th>Time</th>\n",
       "      <th></th>\n",
       "      <th></th>\n",
       "      <th></th>\n",
       "      <th></th>\n",
       "    </tr>\n",
       "  </thead>\n",
       "  <tbody>\n",
       "    <tr>\n",
       "      <th>2013-08-01</th>\n",
       "      <td>2013</td>\n",
       "      <td>8</td>\n",
       "      <td>56.0</td>\n",
       "      <td>2013-08-01</td>\n",
       "    </tr>\n",
       "    <tr>\n",
       "      <th>2013-09-01</th>\n",
       "      <td>2013</td>\n",
       "      <td>9</td>\n",
       "      <td>26.0</td>\n",
       "      <td>2013-09-01</td>\n",
       "    </tr>\n",
       "    <tr>\n",
       "      <th>2013-10-01</th>\n",
       "      <td>2013</td>\n",
       "      <td>10</td>\n",
       "      <td>-34.0</td>\n",
       "      <td>2013-10-01</td>\n",
       "    </tr>\n",
       "    <tr>\n",
       "      <th>2013-11-01</th>\n",
       "      <td>2013</td>\n",
       "      <td>11</td>\n",
       "      <td>-84.0</td>\n",
       "      <td>2013-11-01</td>\n",
       "    </tr>\n",
       "    <tr>\n",
       "      <th>2013-12-01</th>\n",
       "      <td>2013</td>\n",
       "      <td>12</td>\n",
       "      <td>-115.0</td>\n",
       "      <td>2013-12-01</td>\n",
       "    </tr>\n",
       "  </tbody>\n",
       "</table>\n",
       "</div>"
      ],
      "text/plain": [
       "            Year Month   Temp       Date\n",
       "Time                                    \n",
       "2013-08-01  2013     8   56.0 2013-08-01\n",
       "2013-09-01  2013     9   26.0 2013-09-01\n",
       "2013-10-01  2013    10  -34.0 2013-10-01\n",
       "2013-11-01  2013    11  -84.0 2013-11-01\n",
       "2013-12-01  2013    12 -115.0 2013-12-01"
      ]
     },
     "execution_count": 78,
     "metadata": {},
     "output_type": "execute_result"
    }
   ],
   "source": [
    "df_ilu_long.tail()"
   ]
  },
  {
   "cell_type": "code",
   "execution_count": 79,
   "metadata": {},
   "outputs": [
    {
     "data": {
      "text/plain": [
       "count    2190.000000\n",
       "mean      -52.292694\n",
       "std        90.921613\n",
       "min      -321.000000\n",
       "25%      -121.000000\n",
       "50%       -53.000000\n",
       "75%        30.000000\n",
       "max       110.000000\n",
       "Name: Temp, dtype: float64"
      ]
     },
     "execution_count": 79,
     "metadata": {},
     "output_type": "execute_result"
    }
   ],
   "source": [
    "df_ilu_long['Temp'].describe()"
   ]
  },
  {
   "cell_type": "code",
   "execution_count": 80,
   "metadata": {},
   "outputs": [
    {
     "data": {
      "text/html": [
       "<div>\n",
       "<style scoped>\n",
       "    .dataframe tbody tr th:only-of-type {\n",
       "        vertical-align: middle;\n",
       "    }\n",
       "\n",
       "    .dataframe tbody tr th {\n",
       "        vertical-align: top;\n",
       "    }\n",
       "\n",
       "    .dataframe thead th {\n",
       "        text-align: right;\n",
       "    }\n",
       "</style>\n",
       "<table border=\"1\" class=\"dataframe\">\n",
       "  <thead>\n",
       "    <tr style=\"text-align: right;\">\n",
       "      <th></th>\n",
       "      <th>Year</th>\n",
       "      <th>Month</th>\n",
       "      <th>Temp</th>\n",
       "      <th>Date</th>\n",
       "    </tr>\n",
       "    <tr>\n",
       "      <th>Time</th>\n",
       "      <th></th>\n",
       "      <th></th>\n",
       "      <th></th>\n",
       "      <th></th>\n",
       "    </tr>\n",
       "  </thead>\n",
       "  <tbody>\n",
       "    <tr>\n",
       "      <th>1824-07-01</th>\n",
       "      <td>1824</td>\n",
       "      <td>7</td>\n",
       "      <td>81.0</td>\n",
       "      <td>1824-07-01</td>\n",
       "    </tr>\n",
       "    <tr>\n",
       "      <th>1825-07-01</th>\n",
       "      <td>1825</td>\n",
       "      <td>7</td>\n",
       "      <td>54.0</td>\n",
       "      <td>1825-07-01</td>\n",
       "    </tr>\n",
       "    <tr>\n",
       "      <th>1826-07-01</th>\n",
       "      <td>1826</td>\n",
       "      <td>7</td>\n",
       "      <td>NaN</td>\n",
       "      <td>1826-07-01</td>\n",
       "    </tr>\n",
       "    <tr>\n",
       "      <th>1827-07-01</th>\n",
       "      <td>1827</td>\n",
       "      <td>7</td>\n",
       "      <td>NaN</td>\n",
       "      <td>1827-07-01</td>\n",
       "    </tr>\n",
       "    <tr>\n",
       "      <th>1828-07-01</th>\n",
       "      <td>1828</td>\n",
       "      <td>7</td>\n",
       "      <td>NaN</td>\n",
       "      <td>1828-07-01</td>\n",
       "    </tr>\n",
       "    <tr>\n",
       "      <th>...</th>\n",
       "      <td>...</td>\n",
       "      <td>...</td>\n",
       "      <td>...</td>\n",
       "      <td>...</td>\n",
       "    </tr>\n",
       "    <tr>\n",
       "      <th>2009-07-01</th>\n",
       "      <td>2009</td>\n",
       "      <td>7</td>\n",
       "      <td>91.0</td>\n",
       "      <td>2009-07-01</td>\n",
       "    </tr>\n",
       "    <tr>\n",
       "      <th>2010-07-01</th>\n",
       "      <td>2010</td>\n",
       "      <td>7</td>\n",
       "      <td>88.0</td>\n",
       "      <td>2010-07-01</td>\n",
       "    </tr>\n",
       "    <tr>\n",
       "      <th>2011-07-01</th>\n",
       "      <td>2011</td>\n",
       "      <td>7</td>\n",
       "      <td>102.0</td>\n",
       "      <td>2011-07-01</td>\n",
       "    </tr>\n",
       "    <tr>\n",
       "      <th>2012-07-01</th>\n",
       "      <td>2012</td>\n",
       "      <td>7</td>\n",
       "      <td>93.0</td>\n",
       "      <td>2012-07-01</td>\n",
       "    </tr>\n",
       "    <tr>\n",
       "      <th>2013-07-01</th>\n",
       "      <td>2013</td>\n",
       "      <td>7</td>\n",
       "      <td>76.0</td>\n",
       "      <td>2013-07-01</td>\n",
       "    </tr>\n",
       "  </tbody>\n",
       "</table>\n",
       "<p>190 rows × 4 columns</p>\n",
       "</div>"
      ],
      "text/plain": [
       "            Year Month   Temp       Date\n",
       "Time                                    \n",
       "1824-07-01  1824     7   81.0 1824-07-01\n",
       "1825-07-01  1825     7   54.0 1825-07-01\n",
       "1826-07-01  1826     7    NaN 1826-07-01\n",
       "1827-07-01  1827     7    NaN 1827-07-01\n",
       "1828-07-01  1828     7    NaN 1828-07-01\n",
       "...          ...   ...    ...        ...\n",
       "2009-07-01  2009     7   91.0 2009-07-01\n",
       "2010-07-01  2010     7   88.0 2010-07-01\n",
       "2011-07-01  2011     7  102.0 2011-07-01\n",
       "2012-07-01  2012     7   93.0 2012-07-01\n",
       "2013-07-01  2013     7   76.0 2013-07-01\n",
       "\n",
       "[190 rows x 4 columns]"
      ]
     },
     "execution_count": 80,
     "metadata": {},
     "output_type": "execute_result"
    }
   ],
   "source": [
    "df_ilu_long.loc[df_ilu_long['Month']=='7']"
   ]
  },
  {
   "cell_type": "code",
   "execution_count": 81,
   "metadata": {},
   "outputs": [],
   "source": [
    "############# Interpolate missing data with a straight line\n",
    "#df_ilu_long['Temp'].interpolate(method='linear', inplace=True)"
   ]
  },
  {
   "cell_type": "code",
   "execution_count": 49,
   "metadata": {},
   "outputs": [],
   "source": [
    "df_ilu_long['Temp'] = df_ilu_long.Temp.fillna(df_ilu_long.Temp.rolling(4,min_periods=1).mean())"
   ]
  },
  {
   "cell_type": "code",
   "execution_count": 82,
   "metadata": {},
   "outputs": [
    {
     "data": {
      "text/html": [
       "<div>\n",
       "<style scoped>\n",
       "    .dataframe tbody tr th:only-of-type {\n",
       "        vertical-align: middle;\n",
       "    }\n",
       "\n",
       "    .dataframe tbody tr th {\n",
       "        vertical-align: top;\n",
       "    }\n",
       "\n",
       "    .dataframe thead th {\n",
       "        text-align: right;\n",
       "    }\n",
       "</style>\n",
       "<table border=\"1\" class=\"dataframe\">\n",
       "  <thead>\n",
       "    <tr style=\"text-align: right;\">\n",
       "      <th></th>\n",
       "      <th>Year</th>\n",
       "      <th>Month</th>\n",
       "      <th>Temp</th>\n",
       "      <th>Date</th>\n",
       "    </tr>\n",
       "    <tr>\n",
       "      <th>Time</th>\n",
       "      <th></th>\n",
       "      <th></th>\n",
       "      <th></th>\n",
       "      <th></th>\n",
       "    </tr>\n",
       "  </thead>\n",
       "  <tbody>\n",
       "    <tr>\n",
       "      <th>1824-01-01</th>\n",
       "      <td>1824</td>\n",
       "      <td>1</td>\n",
       "      <td>-161.0</td>\n",
       "      <td>1824-01-01</td>\n",
       "    </tr>\n",
       "    <tr>\n",
       "      <th>1824-02-01</th>\n",
       "      <td>1824</td>\n",
       "      <td>2</td>\n",
       "      <td>-196.0</td>\n",
       "      <td>1824-02-01</td>\n",
       "    </tr>\n",
       "    <tr>\n",
       "      <th>1824-03-01</th>\n",
       "      <td>1824</td>\n",
       "      <td>3</td>\n",
       "      <td>-160.0</td>\n",
       "      <td>1824-03-01</td>\n",
       "    </tr>\n",
       "    <tr>\n",
       "      <th>1824-04-01</th>\n",
       "      <td>1824</td>\n",
       "      <td>4</td>\n",
       "      <td>-59.0</td>\n",
       "      <td>1824-04-01</td>\n",
       "    </tr>\n",
       "    <tr>\n",
       "      <th>1824-05-01</th>\n",
       "      <td>1824</td>\n",
       "      <td>5</td>\n",
       "      <td>15.0</td>\n",
       "      <td>1824-05-01</td>\n",
       "    </tr>\n",
       "    <tr>\n",
       "      <th>1824-06-01</th>\n",
       "      <td>1824</td>\n",
       "      <td>6</td>\n",
       "      <td>57.0</td>\n",
       "      <td>1824-06-01</td>\n",
       "    </tr>\n",
       "    <tr>\n",
       "      <th>1824-07-01</th>\n",
       "      <td>1824</td>\n",
       "      <td>7</td>\n",
       "      <td>81.0</td>\n",
       "      <td>1824-07-01</td>\n",
       "    </tr>\n",
       "    <tr>\n",
       "      <th>1824-08-01</th>\n",
       "      <td>1824</td>\n",
       "      <td>8</td>\n",
       "      <td>NaN</td>\n",
       "      <td>1824-08-01</td>\n",
       "    </tr>\n",
       "    <tr>\n",
       "      <th>1824-09-01</th>\n",
       "      <td>1824</td>\n",
       "      <td>9</td>\n",
       "      <td>NaN</td>\n",
       "      <td>1824-09-01</td>\n",
       "    </tr>\n",
       "    <tr>\n",
       "      <th>1824-10-01</th>\n",
       "      <td>1824</td>\n",
       "      <td>10</td>\n",
       "      <td>NaN</td>\n",
       "      <td>1824-10-01</td>\n",
       "    </tr>\n",
       "    <tr>\n",
       "      <th>1824-11-01</th>\n",
       "      <td>1824</td>\n",
       "      <td>11</td>\n",
       "      <td>NaN</td>\n",
       "      <td>1824-11-01</td>\n",
       "    </tr>\n",
       "    <tr>\n",
       "      <th>1824-12-01</th>\n",
       "      <td>1824</td>\n",
       "      <td>12</td>\n",
       "      <td>NaN</td>\n",
       "      <td>1824-12-01</td>\n",
       "    </tr>\n",
       "    <tr>\n",
       "      <th>1825-01-01</th>\n",
       "      <td>1825</td>\n",
       "      <td>1</td>\n",
       "      <td>NaN</td>\n",
       "      <td>1825-01-01</td>\n",
       "    </tr>\n",
       "    <tr>\n",
       "      <th>1825-02-01</th>\n",
       "      <td>1825</td>\n",
       "      <td>2</td>\n",
       "      <td>NaN</td>\n",
       "      <td>1825-02-01</td>\n",
       "    </tr>\n",
       "    <tr>\n",
       "      <th>1825-03-01</th>\n",
       "      <td>1825</td>\n",
       "      <td>3</td>\n",
       "      <td>NaN</td>\n",
       "      <td>1825-03-01</td>\n",
       "    </tr>\n",
       "    <tr>\n",
       "      <th>1825-04-01</th>\n",
       "      <td>1825</td>\n",
       "      <td>4</td>\n",
       "      <td>NaN</td>\n",
       "      <td>1825-04-01</td>\n",
       "    </tr>\n",
       "    <tr>\n",
       "      <th>1825-05-01</th>\n",
       "      <td>1825</td>\n",
       "      <td>5</td>\n",
       "      <td>NaN</td>\n",
       "      <td>1825-05-01</td>\n",
       "    </tr>\n",
       "    <tr>\n",
       "      <th>1825-06-01</th>\n",
       "      <td>1825</td>\n",
       "      <td>6</td>\n",
       "      <td>NaN</td>\n",
       "      <td>1825-06-01</td>\n",
       "    </tr>\n",
       "    <tr>\n",
       "      <th>1825-07-01</th>\n",
       "      <td>1825</td>\n",
       "      <td>7</td>\n",
       "      <td>54.0</td>\n",
       "      <td>1825-07-01</td>\n",
       "    </tr>\n",
       "    <tr>\n",
       "      <th>1825-08-01</th>\n",
       "      <td>1825</td>\n",
       "      <td>8</td>\n",
       "      <td>NaN</td>\n",
       "      <td>1825-08-01</td>\n",
       "    </tr>\n",
       "    <tr>\n",
       "      <th>1825-09-01</th>\n",
       "      <td>1825</td>\n",
       "      <td>9</td>\n",
       "      <td>NaN</td>\n",
       "      <td>1825-09-01</td>\n",
       "    </tr>\n",
       "    <tr>\n",
       "      <th>1825-10-01</th>\n",
       "      <td>1825</td>\n",
       "      <td>10</td>\n",
       "      <td>-63.0</td>\n",
       "      <td>1825-10-01</td>\n",
       "    </tr>\n",
       "    <tr>\n",
       "      <th>1825-11-01</th>\n",
       "      <td>1825</td>\n",
       "      <td>11</td>\n",
       "      <td>-136.0</td>\n",
       "      <td>1825-11-01</td>\n",
       "    </tr>\n",
       "    <tr>\n",
       "      <th>1825-12-01</th>\n",
       "      <td>1825</td>\n",
       "      <td>12</td>\n",
       "      <td>-180.0</td>\n",
       "      <td>1825-12-01</td>\n",
       "    </tr>\n",
       "    <tr>\n",
       "      <th>1826-01-01</th>\n",
       "      <td>1826</td>\n",
       "      <td>1</td>\n",
       "      <td>-184.0</td>\n",
       "      <td>1826-01-01</td>\n",
       "    </tr>\n",
       "    <tr>\n",
       "      <th>1826-02-01</th>\n",
       "      <td>1826</td>\n",
       "      <td>2</td>\n",
       "      <td>NaN</td>\n",
       "      <td>1826-02-01</td>\n",
       "    </tr>\n",
       "    <tr>\n",
       "      <th>1826-03-01</th>\n",
       "      <td>1826</td>\n",
       "      <td>3</td>\n",
       "      <td>-204.0</td>\n",
       "      <td>1826-03-01</td>\n",
       "    </tr>\n",
       "    <tr>\n",
       "      <th>1826-04-01</th>\n",
       "      <td>1826</td>\n",
       "      <td>4</td>\n",
       "      <td>-234.0</td>\n",
       "      <td>1826-04-01</td>\n",
       "    </tr>\n",
       "    <tr>\n",
       "      <th>1826-05-01</th>\n",
       "      <td>1826</td>\n",
       "      <td>5</td>\n",
       "      <td>-31.0</td>\n",
       "      <td>1826-05-01</td>\n",
       "    </tr>\n",
       "    <tr>\n",
       "      <th>1826-06-01</th>\n",
       "      <td>1826</td>\n",
       "      <td>6</td>\n",
       "      <td>-6.0</td>\n",
       "      <td>1826-06-01</td>\n",
       "    </tr>\n",
       "    <tr>\n",
       "      <th>1826-07-01</th>\n",
       "      <td>1826</td>\n",
       "      <td>7</td>\n",
       "      <td>NaN</td>\n",
       "      <td>1826-07-01</td>\n",
       "    </tr>\n",
       "    <tr>\n",
       "      <th>1826-08-01</th>\n",
       "      <td>1826</td>\n",
       "      <td>8</td>\n",
       "      <td>NaN</td>\n",
       "      <td>1826-08-01</td>\n",
       "    </tr>\n",
       "    <tr>\n",
       "      <th>1826-09-01</th>\n",
       "      <td>1826</td>\n",
       "      <td>9</td>\n",
       "      <td>6.0</td>\n",
       "      <td>1826-09-01</td>\n",
       "    </tr>\n",
       "    <tr>\n",
       "      <th>1826-10-01</th>\n",
       "      <td>1826</td>\n",
       "      <td>10</td>\n",
       "      <td>-51.0</td>\n",
       "      <td>1826-10-01</td>\n",
       "    </tr>\n",
       "    <tr>\n",
       "      <th>1826-11-01</th>\n",
       "      <td>1826</td>\n",
       "      <td>11</td>\n",
       "      <td>-60.0</td>\n",
       "      <td>1826-11-01</td>\n",
       "    </tr>\n",
       "    <tr>\n",
       "      <th>1826-12-01</th>\n",
       "      <td>1826</td>\n",
       "      <td>12</td>\n",
       "      <td>-118.0</td>\n",
       "      <td>1826-12-01</td>\n",
       "    </tr>\n",
       "    <tr>\n",
       "      <th>1827-01-01</th>\n",
       "      <td>1827</td>\n",
       "      <td>1</td>\n",
       "      <td>-186.0</td>\n",
       "      <td>1827-01-01</td>\n",
       "    </tr>\n",
       "    <tr>\n",
       "      <th>1827-02-01</th>\n",
       "      <td>1827</td>\n",
       "      <td>2</td>\n",
       "      <td>-74.0</td>\n",
       "      <td>1827-02-01</td>\n",
       "    </tr>\n",
       "    <tr>\n",
       "      <th>1827-03-01</th>\n",
       "      <td>1827</td>\n",
       "      <td>3</td>\n",
       "      <td>-197.0</td>\n",
       "      <td>1827-03-01</td>\n",
       "    </tr>\n",
       "    <tr>\n",
       "      <th>1827-04-01</th>\n",
       "      <td>1827</td>\n",
       "      <td>4</td>\n",
       "      <td>-105.0</td>\n",
       "      <td>1827-04-01</td>\n",
       "    </tr>\n",
       "    <tr>\n",
       "      <th>1827-05-01</th>\n",
       "      <td>1827</td>\n",
       "      <td>5</td>\n",
       "      <td>-22.0</td>\n",
       "      <td>1827-05-01</td>\n",
       "    </tr>\n",
       "    <tr>\n",
       "      <th>1827-06-01</th>\n",
       "      <td>1827</td>\n",
       "      <td>6</td>\n",
       "      <td>NaN</td>\n",
       "      <td>1827-06-01</td>\n",
       "    </tr>\n",
       "    <tr>\n",
       "      <th>1827-07-01</th>\n",
       "      <td>1827</td>\n",
       "      <td>7</td>\n",
       "      <td>NaN</td>\n",
       "      <td>1827-07-01</td>\n",
       "    </tr>\n",
       "    <tr>\n",
       "      <th>1827-08-01</th>\n",
       "      <td>1827</td>\n",
       "      <td>8</td>\n",
       "      <td>NaN</td>\n",
       "      <td>1827-08-01</td>\n",
       "    </tr>\n",
       "    <tr>\n",
       "      <th>1827-09-01</th>\n",
       "      <td>1827</td>\n",
       "      <td>9</td>\n",
       "      <td>NaN</td>\n",
       "      <td>1827-09-01</td>\n",
       "    </tr>\n",
       "    <tr>\n",
       "      <th>1827-10-01</th>\n",
       "      <td>1827</td>\n",
       "      <td>10</td>\n",
       "      <td>NaN</td>\n",
       "      <td>1827-10-01</td>\n",
       "    </tr>\n",
       "    <tr>\n",
       "      <th>1827-11-01</th>\n",
       "      <td>1827</td>\n",
       "      <td>11</td>\n",
       "      <td>NaN</td>\n",
       "      <td>1827-11-01</td>\n",
       "    </tr>\n",
       "    <tr>\n",
       "      <th>1827-12-01</th>\n",
       "      <td>1827</td>\n",
       "      <td>12</td>\n",
       "      <td>NaN</td>\n",
       "      <td>1827-12-01</td>\n",
       "    </tr>\n",
       "    <tr>\n",
       "      <th>1828-01-01</th>\n",
       "      <td>1828</td>\n",
       "      <td>1</td>\n",
       "      <td>NaN</td>\n",
       "      <td>1828-01-01</td>\n",
       "    </tr>\n",
       "    <tr>\n",
       "      <th>1828-02-01</th>\n",
       "      <td>1828</td>\n",
       "      <td>2</td>\n",
       "      <td>NaN</td>\n",
       "      <td>1828-02-01</td>\n",
       "    </tr>\n",
       "  </tbody>\n",
       "</table>\n",
       "</div>"
      ],
      "text/plain": [
       "            Year Month   Temp       Date\n",
       "Time                                    \n",
       "1824-01-01  1824     1 -161.0 1824-01-01\n",
       "1824-02-01  1824     2 -196.0 1824-02-01\n",
       "1824-03-01  1824     3 -160.0 1824-03-01\n",
       "1824-04-01  1824     4  -59.0 1824-04-01\n",
       "1824-05-01  1824     5   15.0 1824-05-01\n",
       "1824-06-01  1824     6   57.0 1824-06-01\n",
       "1824-07-01  1824     7   81.0 1824-07-01\n",
       "1824-08-01  1824     8    NaN 1824-08-01\n",
       "1824-09-01  1824     9    NaN 1824-09-01\n",
       "1824-10-01  1824    10    NaN 1824-10-01\n",
       "1824-11-01  1824    11    NaN 1824-11-01\n",
       "1824-12-01  1824    12    NaN 1824-12-01\n",
       "1825-01-01  1825     1    NaN 1825-01-01\n",
       "1825-02-01  1825     2    NaN 1825-02-01\n",
       "1825-03-01  1825     3    NaN 1825-03-01\n",
       "1825-04-01  1825     4    NaN 1825-04-01\n",
       "1825-05-01  1825     5    NaN 1825-05-01\n",
       "1825-06-01  1825     6    NaN 1825-06-01\n",
       "1825-07-01  1825     7   54.0 1825-07-01\n",
       "1825-08-01  1825     8    NaN 1825-08-01\n",
       "1825-09-01  1825     9    NaN 1825-09-01\n",
       "1825-10-01  1825    10  -63.0 1825-10-01\n",
       "1825-11-01  1825    11 -136.0 1825-11-01\n",
       "1825-12-01  1825    12 -180.0 1825-12-01\n",
       "1826-01-01  1826     1 -184.0 1826-01-01\n",
       "1826-02-01  1826     2    NaN 1826-02-01\n",
       "1826-03-01  1826     3 -204.0 1826-03-01\n",
       "1826-04-01  1826     4 -234.0 1826-04-01\n",
       "1826-05-01  1826     5  -31.0 1826-05-01\n",
       "1826-06-01  1826     6   -6.0 1826-06-01\n",
       "1826-07-01  1826     7    NaN 1826-07-01\n",
       "1826-08-01  1826     8    NaN 1826-08-01\n",
       "1826-09-01  1826     9    6.0 1826-09-01\n",
       "1826-10-01  1826    10  -51.0 1826-10-01\n",
       "1826-11-01  1826    11  -60.0 1826-11-01\n",
       "1826-12-01  1826    12 -118.0 1826-12-01\n",
       "1827-01-01  1827     1 -186.0 1827-01-01\n",
       "1827-02-01  1827     2  -74.0 1827-02-01\n",
       "1827-03-01  1827     3 -197.0 1827-03-01\n",
       "1827-04-01  1827     4 -105.0 1827-04-01\n",
       "1827-05-01  1827     5  -22.0 1827-05-01\n",
       "1827-06-01  1827     6    NaN 1827-06-01\n",
       "1827-07-01  1827     7    NaN 1827-07-01\n",
       "1827-08-01  1827     8    NaN 1827-08-01\n",
       "1827-09-01  1827     9    NaN 1827-09-01\n",
       "1827-10-01  1827    10    NaN 1827-10-01\n",
       "1827-11-01  1827    11    NaN 1827-11-01\n",
       "1827-12-01  1827    12    NaN 1827-12-01\n",
       "1828-01-01  1828     1    NaN 1828-01-01\n",
       "1828-02-01  1828     2    NaN 1828-02-01"
      ]
     },
     "execution_count": 82,
     "metadata": {},
     "output_type": "execute_result"
    }
   ],
   "source": [
    "df_ilu_long.head(50)"
   ]
  },
  {
   "cell_type": "code",
   "execution_count": 51,
   "metadata": {
    "scrolled": true
   },
   "outputs": [
    {
     "data": {
      "text/plain": [
       "[<matplotlib.lines.Line2D at 0x2a310f56df0>]"
      ]
     },
     "execution_count": 51,
     "metadata": {},
     "output_type": "execute_result"
    },
    {
     "data": {
      "image/png": "[encoded data removed]",
      "text/plain": [
       "<Figure size 432x288 with 1 Axes>"
      ]
     },
     "metadata": {
      "needs_background": "light"
     },
     "output_type": "display_data"
    }
   ],
   "source": [
    "plt.plot(df_ilu_long.index.values, df_ilu_long['Temp'])"
   ]
  },
  {
   "cell_type": "code",
   "execution_count": 52,
   "metadata": {},
   "outputs": [],
   "source": [
    "temp_moving_average = df_ilu_long.Temp.rolling(window=120).mean()"
   ]
  },
  {
   "cell_type": "code",
   "execution_count": 53,
   "metadata": {
    "scrolled": false
   },
   "outputs": [
    {
     "data": {
      "text/plain": [
       "<matplotlib.axes._subplots.AxesSubplot at 0x2a310f635b0>"
      ]
     },
     "execution_count": 53,
     "metadata": {},
     "output_type": "execute_result"
    },
    {
     "data": {
      "image/png": "[encoded data removed]",
      "text/plain": [
       "<Figure size 1440x720 with 1 Axes>"
      ]
     },
     "metadata": {
      "needs_background": "light"
     },
     "output_type": "display_data"
    }
   ],
   "source": [
    "temp_moving_average.plot(figsize=(20, 10))"
   ]
  },
  {
   "cell_type": "code",
   "execution_count": 54,
   "metadata": {},
   "outputs": [],
   "source": [
    "temp_moving_median = df_ilu_long.Temp.rolling(window=200).median()"
   ]
  },
  {
   "cell_type": "code",
   "execution_count": 55,
   "metadata": {
    "scrolled": false
   },
   "outputs": [
    {
     "data": {
      "text/plain": [
       "<matplotlib.axes._subplots.AxesSubplot at 0x2a3116f7670>"
      ]
     },
     "execution_count": 55,
     "metadata": {},
     "output_type": "execute_result"
    },
    {
     "data": {
      "image/png": "[encoded data removed]",
      "text/plain": [
       "<Figure size 1440x720 with 1 Axes>"
      ]
     },
     "metadata": {
      "needs_background": "light"
     },
     "output_type": "display_data"
    }
   ],
   "source": [
    "temp_moving_median.plot(figsize=(20, 10))"
   ]
  },
  {
   "cell_type": "code",
   "execution_count": 34,
   "metadata": {},
   "outputs": [],
   "source": [
    "df_ilu_long.reset_index(inplace=True)"
   ]
  },
  {
   "cell_type": "code",
   "execution_count": 35,
   "metadata": {},
   "outputs": [],
   "source": [
    "series_value = df_ilu_long['Temp']"
   ]
  },
  {
   "cell_type": "code",
   "execution_count": 36,
   "metadata": {},
   "outputs": [
    {
     "data": {
      "text/plain": [
       "0      -161.0\n",
       "1      -196.0\n",
       "2      -160.0\n",
       "3       -59.0\n",
       "4        15.0\n",
       "        ...  \n",
       "2275     56.0\n",
       "2276     26.0\n",
       "2277    -34.0\n",
       "2278    -84.0\n",
       "2279   -115.0\n",
       "Name: Temp, Length: 2280, dtype: float64"
      ]
     },
     "execution_count": 36,
     "metadata": {},
     "output_type": "execute_result"
    }
   ],
   "source": [
    "series_value"
   ]
  },
  {
   "cell_type": "code",
   "execution_count": 37,
   "metadata": {},
   "outputs": [],
   "source": [
    "value = pd.DataFrame(series_value)"
   ]
  },
  {
   "cell_type": "code",
   "execution_count": 38,
   "metadata": {
    "scrolled": true
   },
   "outputs": [],
   "source": [
    "shifted = pd.concat([value, value.shift(1)], axis=1)"
   ]
  },
  {
   "cell_type": "code",
   "execution_count": 39,
   "metadata": {},
   "outputs": [
    {
     "data": {
      "text/html": [
       "<div>\n",
       "<style scoped>\n",
       "    .dataframe tbody tr th:only-of-type {\n",
       "        vertical-align: middle;\n",
       "    }\n",
       "\n",
       "    .dataframe tbody tr th {\n",
       "        vertical-align: top;\n",
       "    }\n",
       "\n",
       "    .dataframe thead th {\n",
       "        text-align: right;\n",
       "    }\n",
       "</style>\n",
       "<table border=\"1\" class=\"dataframe\">\n",
       "  <thead>\n",
       "    <tr style=\"text-align: right;\">\n",
       "      <th></th>\n",
       "      <th>Temp</th>\n",
       "      <th>Temp</th>\n",
       "    </tr>\n",
       "  </thead>\n",
       "  <tbody>\n",
       "    <tr>\n",
       "      <th>2275</th>\n",
       "      <td>56.0</td>\n",
       "      <td>76.0</td>\n",
       "    </tr>\n",
       "    <tr>\n",
       "      <th>2276</th>\n",
       "      <td>26.0</td>\n",
       "      <td>56.0</td>\n",
       "    </tr>\n",
       "    <tr>\n",
       "      <th>2277</th>\n",
       "      <td>-34.0</td>\n",
       "      <td>26.0</td>\n",
       "    </tr>\n",
       "    <tr>\n",
       "      <th>2278</th>\n",
       "      <td>-84.0</td>\n",
       "      <td>-34.0</td>\n",
       "    </tr>\n",
       "    <tr>\n",
       "      <th>2279</th>\n",
       "      <td>-115.0</td>\n",
       "      <td>-84.0</td>\n",
       "    </tr>\n",
       "  </tbody>\n",
       "</table>\n",
       "</div>"
      ],
      "text/plain": [
       "       Temp  Temp\n",
       "2275   56.0  76.0\n",
       "2276   26.0  56.0\n",
       "2277  -34.0  26.0\n",
       "2278  -84.0 -34.0\n",
       "2279 -115.0 -84.0"
      ]
     },
     "execution_count": 39,
     "metadata": {},
     "output_type": "execute_result"
    }
   ],
   "source": [
    "shifted.tail()"
   ]
  },
  {
   "cell_type": "code",
   "execution_count": 40,
   "metadata": {},
   "outputs": [],
   "source": [
    "shifted.columns = ['t', 't+1']"
   ]
  },
  {
   "cell_type": "code",
   "execution_count": null,
   "metadata": {},
   "outputs": [],
   "source": []
  }
 ],
 "metadata": {
  "kernelspec": {
   "display_name": "Python 3",
   "language": "python",
   "name": "python3"
  },
  "language_info": {
   "codemirror_mode": {
    "name": "ipython",
    "version": 3
   },
   "file_extension": ".py",
   "mimetype": "text/x-python",
   "name": "python",
   "nbconvert_exporter": "python",
   "pygments_lexer": "ipython3",
   "version": "3.8.3"
  }
 },
 "nbformat": 4,
 "nbformat_minor": 4
}
